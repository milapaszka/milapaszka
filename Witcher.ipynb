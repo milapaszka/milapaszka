{
  "nbformat": 4,
  "nbformat_minor": 0,
  "metadata": {
    "colab": {
      "name": "Untitled1.ipynb",
      "provenance": [],
      "authorship_tag": "ABX9TyPfUpj8rG2tl1MbTvMyXjmc",
      "include_colab_link": true
    },
    "kernelspec": {
      "name": "python3",
      "display_name": "Python 3"
    }
  },
  "cells": [
    {
      "cell_type": "markdown",
      "metadata": {
        "id": "view-in-github",
        "colab_type": "text"
      },
      "source": [
        "<a href=\"https://colab.research.google.com/github/milapaszka/milapaszka/blob/testing/Witcher.ipynb\" target=\"_parent\"><img src=\"https://colab.research.google.com/assets/colab-badge.svg\" alt=\"Open In Colab\"/></a>"
      ]
    },
    {
      "cell_type": "markdown",
      "metadata": {
        "id": "0Xrn5qCk1I3X",
        "colab_type": "text"
      },
      "source": [
        "Autor: Adrianna Zajdel, Milena Paszkowska \n",
        "The Witcher\n",
        "\n",
        "Proszę napisać program, który poda tytuł odcinka serialu The Witcher (mam na myśli produkcję Netflixa z Henrym Cavillem i Anyą Chalotrą).\n",
        "\n",
        "Wymagania:\n",
        "\n",
        "1. muszą napisać Państwo własne funkcje\n",
        "2. numer odcinka musi być wprowadzany z klawiatury za pomocą input()\n",
        "3. muszą uwzględnić Państwo dwie wersje językowe - PL i ANG (tj. użytkownik podaje numer odcinka oraz decyduje, w którym języku chce otrzymać tytuł)\n",
        "4. muszą zabezpieczyć Państwo poprawność danych tj. (1) sprawdzić, czy istnieje odcinek o numerze wprowadzonym przez użytkownika, (2) sprawdzić, czy użytkownik poprawnie wybrał wersję językową - jeśli nie ma takiego odcinka lub jeśli nie ma danej wersji językowej, proszę wyświetlić komunikat, który poinformuje o tym, użytkownika\n",
        "5. muszą umożliwić Państwo, na życzenie użytkownika, powtórzenie procedury podania tytułu (np. Czy chcesz powtórzyć operację? T / N )\n",
        "6. muszą umożliwić Państwo zakończenie programu na życzenie użytkownika (jak wyżej - T / N)\n",
        "Proszę przygotować również dokumentację programu, czyli kompletny notatnik Google Colab, w który krok po kroku poprowadzą mnie Państwo po swoim programie. Należy zacząć od przytoczenia treści zadania i wymagań. Następnie krótko opisują Państwo swój pomysł na rozwiązanie, zaś w poszczególnych komórkach z kodem stosują Państwo komentarze objaśniające kod (przypominam, że komentarz w kodzie wprowadza się za pomocą znaku #). Ponadto proszę pamiętać o zasadach nazewnictwa zmiennych, funkcji, struktur itd. - niech te nazwy coś znaczą.  W dokumentacji (w notatniku) należy też uwzględnić autorów rozwiązania - proszę się podpisać. Mogą sobie Państwo wymyślić nawet nazwę swojego zespołu i napisać, kto wchodzi w jego skład (tylko niech gdzieś tam będzie imię i nazwisko, abym wiedziała, komu wpisać zal)."
      ]
    },
    {
      "cell_type": "code",
      "metadata": {
        "id": "7YGAExOVveFV",
        "colab_type": "code",
        "colab": {}
      },
      "source": [
        "#słownik z odcinkami w języku polskim\n",
        "odcinki_pl = { \n",
        "                \"1\" : \"Początek końca\", \n",
        "                \"2\" : \"Cztery marki\", \n",
        "                \"3\" : \"Zdradziecki księżyc\", \n",
        "                \"4\" : \"O bankietach, bękartach i pochówkach\", \n",
        "                \"5\" : \"Niespełnione pragnienia\", \n",
        "                \"6\" : \"Ginące gatunki\", \n",
        "                \"7\" : \"Przed upadkiem\",\n",
        "                \"8\" : \"Coś więcej\"\n",
        "            }\n",
        "            \n",
        "#słownik z odcinkami w języku angielskim\n",
        "odcinki_en = { \n",
        "                \"1\" : \"The End's Beginning\", \n",
        "                \"2\" : \"Four Marks\", \n",
        "                \"3\" : \"Betrayer Moon\", \n",
        "                \"4\" : \"Of Banquets, Bastards, and Burials\", \n",
        "                \"5\" : \"Bottled Appetites\", \n",
        "                \"6\" : \"Rare Species\", \n",
        "                \"7\" : \"Before a Fall\",\n",
        "                \"8\" : \"Much More\"\n",
        "            }\n",
        "\n",
        "#funkcja przyjmuje dwa parametry i zwraca tytuł odcinka jeżeli dane są poprawne\n",
        "#odc - numer odcinka\n",
        "#jez - wersja językowa\n",
        "def odcinki(odc, jez):\n",
        "    #sprawdzamy wersje językową\n",
        "    if jez == \"PL\":\n",
        "        #jeżeli słownik z polskimi odcinkami zawiera numer odcinka\n",
        "        if odc in odcinki_pl:\n",
        "            #wypisujemy wartość dla klucza odcinka\n",
        "            print(odcinki_pl[odc])\n",
        "        else:\n",
        "            #jeżeli nie to informujemy, że takiego odcinka nie ma\n",
        "            print(\"Nie ma takiego numeru odcinka w polskiej wersji językowej\")\n",
        "    elif jez == \"ANG\":\n",
        "        #jeżeli słownik z ang odcinkami zawiera numer odcinka\n",
        "        if odc in odcinki_en:\n",
        "            #wypisujemy wartość dla klucza odcinka\n",
        "            print(odcinki_en[odc])\n",
        "        else:\n",
        "            #jeżeli nie to informujemy że takiego odcinka nie ma\n",
        "            print(\"Nie ma takiego numeru odcinka w angielskiej wersji jezykowej\")\n",
        "    else:\n",
        "        #jeżeli ktoś wprowadził błęda wersję językową to informujemy\n",
        "        print(\"Ta wersja jezykowa nie jest obslugiwana\")\n",
        "\n",
        "#funkcja wczytuje numer odcinka i wersje jezykową z klawiatury i wywołuje funkcje odcinki()\n",
        "def wprowadz_dane():\n",
        "    numer_odcinka = input(\"Podaj numer odcinka: \")\n",
        "    jezyk = input(\"Wybierz w jakim języku chcesz otrzymać tytuł odcinka- PL/ANG: \")\n",
        "    odcinki(numer_odcinka, jezyk)\n",
        "\n",
        "\n",
        "powtorz = \"T\" #flaga która mówi czy mamy poworzyć operacje, domyślne ustawienie na \"T\" gwarantuje pierwsze wykonanie całej procedury\n",
        "zakoncz = \"N\" #flaga która mówi czy mamy zakonczyć działanie programu, domyąlne ustawienie na \"N\" gwarantuje pierwsze wykonanie całej procedury\n",
        "\n",
        "#dopóki flaga zakończ równa \"N\" wykonuj:\n",
        "while zakoncz == \"N\":\n",
        "\n",
        "    #dopóki flaga powtorz równa \"T\" powtarzaj procedurę wybrania odcinka\n",
        "    while powtorz == \"T\":\n",
        "        wprowadz_dane()\n",
        "        powtorz = input(\"Czy chcesz powtórzyć operację? T/N: \") #pytamy czy chcemy powtórzyć\n",
        "    zakoncz = input(\"Czy chcesz zakończyć działanie programu? T/N: \") #jeżeli nie chcemy powtórzyc to pytamy czy zakonczyć program\n",
        "    if zakoncz == \"N\":\n",
        "        powtorz = \"T\" #jeżeli nie chcemy zakończyć programu to wykonujemy ponownie cała procedure"
      ],
      "execution_count": 0,
      "outputs": []
    }
  ]
}