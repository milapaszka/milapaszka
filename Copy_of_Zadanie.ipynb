{
  "nbformat": 4,
  "nbformat_minor": 0,
  "metadata": {
    "colab": {
      "name": "Copy of Zadanie.ipynb",
      "provenance": [],
      "include_colab_link": true
    },
    "kernelspec": {
      "name": "python3",
      "display_name": "Python 3"
    }
  },
  "cells": [
    {
      "cell_type": "markdown",
      "metadata": {
        "id": "view-in-github",
        "colab_type": "text"
      },
      "source": [
        "<a href=\"https://colab.research.google.com/github/milapaszka/milapaszka/blob/testing/Copy_of_Zadanie.ipynb\" target=\"_parent\"><img src=\"https://colab.research.google.com/assets/colab-badge.svg\" alt=\"Open In Colab\"/></a>"
      ]
    },
    {
      "cell_type": "markdown",
      "metadata": {
        "colab_type": "text",
        "id": "yszQowDse5M_"
      },
      "source": [
        "Autor: Adrianna Zajdel\n",
        "> Treść zadania: Zadanie polega na napisaniu programu, który podaje tytuł odcinka serialu *The Witcher*.\n",
        "\n",
        "> Wymagania:\n",
        "\n",
        "1.   muszą napisać Państwo własne funkcje\n",
        "2.   numer odcinka musi być wprowadzany z klawiatury za pomocą input()\n",
        "3.   muszą uwzględnić Państwo dwie wersje językowe - PL i ANG (tj. użytkownik podaje numer odcinka oraz decyduje, w którym języku chce otrzymać tytuł)\n",
        "4.   muszą zabezpieczyć Państwo poprawność danych tj. (1) sprawdzić, czy istnieje odcinek o numerze wprowadzonym przez użytkownika, (2) sprawdzić, czy użytkownik poprawnie wybrał wersję językową - jeśli nie ma takiego odcinka lub jeśli nie ma danej wersji językowej, proszę wyświetlić komunikat, który poinformuje o tym, użytkownika\n",
        "5.   muszą umożliwić Państwo, na życzenie użytkownika, powtórzenie procedury podania tytułu (np. Czy chcesz powtórzyć operację? T / N )\n",
        "6.   muszą umożliwić Państwo zakończenie programu na życzenie użytkownika (jak wyżej - T / N)\n",
        "\n",
        "\n",
        "\n",
        "\n",
        "\n",
        "\n",
        "\n",
        "\n",
        "\n",
        "\n",
        "\n"
      ]
    },
    {
      "cell_type": "code",
      "metadata": {
        "id": "cJCDyosRgMqK",
        "colab_type": "code",
        "colab": {}
      },
      "source": [
        "def odcinki():\n",
        "  numer_odcinka = input(\"Podaj numer odcinka: \")\n",
        "  x = input(\"Wybierz w jakim języku chcesz otrzymać tytuł odcinka- PL/ANG: \")\n",
        "  if x == \"PL\":\n",
        "   if numer_odcinka == \"1\":\n",
        "    print(\"Początek końca\")\n",
        "   elif numer_odcinka == \"2\":\n",
        "    print(\"Cztery marki\")\n",
        "   elif numer_odcinka == \"3\":\n",
        "    print(\"Zdradziecki księżyc\") \n",
        "   elif numer_odcinka == \"4\":\n",
        "    print(\"O bankietach, bękartach i pochówkach\")\n",
        "   elif numer_odcinka == \"5\":\n",
        "    print(\"Niespełnione pragnienia\")\n",
        "   elif numer_odcinka == \"6\":\n",
        "    print(\"Ginące gatunki\")\n",
        "   elif numer_odcinka == \"7\":\n",
        "    print(\"Przed upadkiem\")\n",
        "   elif numer_odcinka == \"8\":\n",
        "    print(\"Coś więcej\")\n",
        "   else:\n",
        "    print(\"Nie ma takiego numeru odcinka\")\n",
        "   \n",
        "\n",
        "  numer_odcinka_ang = numer_odcinka\n",
        "  if x == \"ANG\":\n",
        "   if numer_odcinka_ang == \"1\":\n",
        "    print(\"The End's Beginning\")\n",
        "   elif numer_odcinka_ang == \"2\":\n",
        "     print(\"Four Marks\")\n",
        "   elif numer_odcinka_ang == \"3\":\n",
        "     print(\"Betrayer Moon\")\n",
        "   elif numer_odcinka_ang == \"4\":\n",
        "     print(\"Of Banquets, Bastards, and Burials\")\n",
        "   elif numer_odcinka_ang == \"5\":\n",
        "     print(\"Bottled Appetites\")\n",
        "   elif numer_odcinka_ang == \"6\":\n",
        "     print(\"Rare Species\")\n",
        "   elif numer_odcinka_ang == \"7\":\n",
        "     print(\"Before a Fall\")\n",
        "   elif numer_odcinka_ang == \"8\":\n",
        "     print(\"Much More\")\n",
        "   else:\n",
        "     print(\"Nie ma takiego numeru odcinka\")\n",
        "  \n"
      ],
      "execution_count": 0,
      "outputs": []
    },
    {
      "cell_type": "code",
      "metadata": {
        "id": "SgIiRh2Aw9ox",
        "colab_type": "code",
        "colab": {}
      },
      "source": [
        ""
      ],
      "execution_count": 0,
      "outputs": []
    }
  ]
}