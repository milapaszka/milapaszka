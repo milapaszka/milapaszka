{
  "nbformat": 4,
  "nbformat_minor": 0,
  "metadata": {
    "colab": {
      "name": "Untitled1.ipynb",
      "provenance": [],
      "authorship_tag": "ABX9TyP3VcOFInV+q60DvYqmevd4",
      "include_colab_link": true
    },
    "kernelspec": {
      "name": "python3",
      "display_name": "Python 3"
    }
  },
  "cells": [
    {
      "cell_type": "markdown",
      "metadata": {
        "id": "view-in-github",
        "colab_type": "text"
      },
      "source": [
        "<a href=\"https://colab.research.google.com/github/milapaszka/milapaszka/blob/testing/zadanie1.ipynb\" target=\"_parent\"><img src=\"https://colab.research.google.com/assets/colab-badge.svg\" alt=\"Open In Colab\"/></a>"
      ]
    },
    {
      "cell_type": "code",
      "metadata": {
        "id": "7YGAExOVveFV",
        "colab_type": "code",
        "colab": {}
      },
      "source": [
        "#słownik z odcinkami w języku polskim\n",
        "odcinki_pl = { \n",
        "                \"1\" : \"Początek końca\", \n",
        "                \"2\" : \"Cztery marki\", \n",
        "                \"3\" : \"Zdradziecki księżyc\", \n",
        "                \"4\" : \"O bankietach, bękartach i pochówkach\", \n",
        "                \"5\" : \"Niespełnione pragnienia\", \n",
        "                \"6\" : \"Ginące gatunki\", \n",
        "                \"7\" : \"Przed upadkiem\",\n",
        "                \"8\" : \"Coś więcej\"\n",
        "            }\n",
        "            \n",
        "#słownik z odcinkami w języku angielskim\n",
        "odcinki_en = { \n",
        "                \"1\" : \"The End's Beginning\", \n",
        "                \"2\" : \"Four Marks\", \n",
        "                \"3\" : \"Betrayer Moon\", \n",
        "                \"4\" : \"Of Banquets, Bastards, and Burials\", \n",
        "                \"5\" : \"Bottled Appetites\", \n",
        "                \"6\" : \"Rare Species\", \n",
        "                \"7\" : \"Before a Fall\",\n",
        "                \"8\" : \"Much More\"\n",
        "            }\n",
        "\n",
        "#funkcja przyjmuje dwa parametry i zwraca tytuł odcinka jeżeli dane są poprawne\n",
        "#odc - numer odcinka\n",
        "#jez - wersja językowa\n",
        "def odcinki(odc, jez):\n",
        "    #sprawdzamy wersje językową\n",
        "    if jez == \"PL\":\n",
        "        #jeżeli słownik z polskimi odcinkami zawiera numer odcinka\n",
        "        if odc in odcinki_pl:\n",
        "            #wypisujemy wartość dla klucza odcinka\n",
        "            print(odcinki_pl[odc])\n",
        "        else:\n",
        "            #jeżeli nie to informujemy, że takiego odcinka nie ma\n",
        "            print(\"Nie ma takiego numeru odcinka w polskiej wersji językowej\")\n",
        "    elif jez == \"ANG\":\n",
        "        #jeżeli słownik z ang odcinkami zawiera numer odcinka\n",
        "        if odc in odcinki_en:\n",
        "            #wypisujemy wartość dla klucza odcinka\n",
        "            print(odcinki_en[odc])\n",
        "        else:\n",
        "            #jeżeli nie to informujemy że takiego odcinka nie ma\n",
        "            print(\"Nie ma takiego numeru odcinka w angielskiej wersji jezykowej\")\n",
        "    else:\n",
        "        #jeżeli ktoś wprowadził błęda wersję językową to informujemy\n",
        "        print(\"Ta wersja jezykowa nie jest obslugiwana\")\n",
        "\n",
        "#funkcja wczytuje numer odcinka i wersje jezykową z klawiatury i wywołuje funkcje odcinki()\n",
        "def wprowadz_dane():\n",
        "    numer_odcinka = input(\"Podaj numer odcinka: \")\n",
        "    jezyk = input(\"Wybierz w jakim języku chcesz otrzymać tytuł odcinka- PL/ANG: \")\n",
        "    odcinki(numer_odcinka, jezyk)\n",
        "\n",
        "\n",
        "powtorz = \"T\" #flaga która mówi czy mamy poworzyć operacje, domyślne ustawienie na \"T\" gwarantuje pierwsze wykonanie całej procedury\n",
        "zakoncz = \"N\" #flaga która mówi czy mamy zakonczyć działanie programu, domyąlne ustawienie na \"N\" gwarantuje pierwsze wykonanie całej procedury\n",
        "\n",
        "#dopóki flaga zakończ równa \"N\" wykonuj:\n",
        "while zakoncz == \"N\":\n",
        "\n",
        "    #dopóki flaga powtorz równa \"T\" powtarzaj procedurę wybrania odcinka\n",
        "    while powtorz == \"T\":\n",
        "        wprowadz_dane()\n",
        "        powtorz = input(\"Czy chcesz powtórzyć operację? T/N: \") #pytamy czy chcemy powtórzyć\n",
        "    zakoncz = input(\"Czy chcesz zakończyć działanie programu? T/N: \") #jeżeli nie chcemy powtórzyc to pytamy czy zakonczyć program\n",
        "    if zakoncz == \"N\":\n",
        "        powtorz = \"T\" #jeżeli nie chcemy zakończyć programu to wykonujemy ponownie cała procedure"
      ],
      "execution_count": 0,
      "outputs": []
    }
  ]
}